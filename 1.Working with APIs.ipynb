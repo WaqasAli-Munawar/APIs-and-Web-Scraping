{
 "cells": [
  {
   "cell_type": "markdown",
   "metadata": {},
   "source": [
    "We've worked with data sets pretty extensivelyr. There are many cases where it's impractical to use one.\n",
    "\n",
    "Here are a few situations where data sets don't work well:\n",
    "\n",
    "* The data change frequently. It doesn't really make sense to regenerate a data set of stock prices, for example, and download it every minute. This approach would require a lot of bandwidth, and be very slow.\n",
    "* We only want a small piece of a much larger data set. Reddit comments are one example. What if we want to pull just our own comments from reddit? It doesn't make much sense to download the entire reddit database, then filter it for a few items.\n",
    "* It involves repeated computation. For example, Spotify has an API that can tell us the genre of a piece of music. We could theoretically create our own classifier and use it to categorize music, but we'll never have as much data as Spotify does."
   ]
  },
  {
   "cell_type": "markdown",
   "metadata": {},
   "source": [
    "In cases like these, an application program interface (API) is the right solution. An API is a set of methods and tools that allows different applications to interact with each other. Programmers use APIs to query and retrieve data dynamically (which they can then integrate with their own apps). A client can retrieve information quickly and effectively through an API.\n",
    "\n",
    "Reddit, Spotify, Twitter, Facebook, and many other companies provide free APIs that enable developers to access the information they store on their servers; others charge for access to their APIs. Using an API will save us time and effort, instead of doing all the computation ourselves."
   ]
  },
  {
   "cell_type": "markdown",
   "metadata": {},
   "source": [
    "Organizations host their APIs on Web servers. When we type www.google.com in our browser's address bar, our computer is actually asking the www.google.com server for a Web page, which it then returns to our browser.\n",
    "\n",
    "APIs work much the same way, except instead of our Web browser asking for a Web page, our program asks for data. The API usually returns this data in [JavaScript Object Notation (JSON) format](http://json.org/). \n",
    "\n",
    "We make an API request to the Web server we want to get data from. The server then replies and sends it to us. In Python, we use the [requests library](https://docs.python-requests.org//en/latest/) to do this."
   ]
  },
  {
   "cell_type": "markdown",
   "metadata": {},
   "source": [
    "There are many different types of requests. The most common is a GET request, which we use to retrieve data.We can use a simple GET request to retrieve information from the [OpenNotify](http://open-notify.org/) API."
   ]
  },
  {
   "cell_type": "markdown",
   "metadata": {},
   "source": [
    "OpenNotify has several API endpoints. An endpoint is a server route for retrieving specific data from an API. For example, the /comments endpoint on the reddit API might retrieve information about comments, while the /users endpoint might retrieve data about users."
   ]
  },
  {
   "cell_type": "markdown",
   "metadata": {},
   "source": [
    "The first endpoint we'll look at on OpenNotify is the **iss-now.json** endpoint. This endpoint gets the current latitude and longitude position of the ISS.  A data set wouldn't be a great fit for this task because the information changes often, and involves some calculation on the server."
   ]
  },
  {
   "cell_type": "markdown",
   "metadata": {},
   "source": [
    "[Check out](http://open-notify.org/Open-Notify-API/) the complete list of OpenNotify endpoints."
   ]
  },
  {
   "cell_type": "code",
   "execution_count": 3,
   "metadata": {},
   "outputs": [
    {
     "data": {
      "text/plain": [
       "200"
      ]
     },
     "execution_count": 3,
     "metadata": {},
     "output_type": "execute_result"
    }
   ],
   "source": [
    "# get request to get the latest position of the ISS(International Space Station) \n",
    "#http://api.open-notify.org/iss-now.json from the OpenNotify API.\n",
    "\n",
    "import requests\n",
    "\n",
    "response = requests.get(\"http://api.open-notify.org/iss-now.json\")\n",
    "status = response.status_code   # server will send a status code indicating the success or failure of your request.\n",
    "status"
   ]
  },
  {
   "cell_type": "markdown",
   "metadata": {},
   "source": [
    "The request we just made returned a status code of 200. Web servers return status codes every time they receive an API request. A status code provides information about what happened with a request. Here are some codes that are relevant to GET requests:\n",
    "\n",
    "* 200 - Everything went okay, and the server returned a result (if any).\n",
    "* 301 - The server is redirecting us to a different endpoint. This can happen when a company switches domain names, or an endpoint's name has changed.\n",
    "* 401 - The server thinks we're not authenticated. This happens when we don't send the right credentials to access an API \n",
    "* 400 - The server thinks we made a bad request. This can happen when we don't send the information the API requires to process our request, among other things.\n",
    "* 403 - The resource we're trying to access is forbidden; we don't have the right permissions to see it (Forbidden).\n",
    "* 404 - The server didn't find the resource we tried to access (Not Found)."
   ]
  },
  {
   "cell_type": "code",
   "execution_count": 4,
   "metadata": {},
   "outputs": [
    {
     "data": {
      "text/plain": [
       "404"
      ]
     },
     "execution_count": 4,
     "metadata": {},
     "output_type": "execute_result"
    }
   ],
   "source": [
    "response = requests.get(\"http://api.open-notify.org/iss-pass\")\n",
    "status_code  = response.status_code\n",
    "status_code"
   ]
  },
  {
   "cell_type": "markdown",
   "metadata": {},
   "source": [
    "iss-pass wasn't a valid endpoint, so the API's server sent us a 404 status code in response. We forgot to add .json at the end, like the API [documentation tells](http://open-notify.org/Open-Notify-API/) us to do."
   ]
  },
  {
   "cell_type": "code",
   "execution_count": 9,
   "metadata": {},
   "outputs": [
    {
     "data": {
      "text/plain": [
       "200"
      ]
     },
     "execution_count": 9,
     "metadata": {},
     "output_type": "execute_result"
    }
   ],
   "source": [
    "response = requests.get(\"http://api.open-notify.org/iss-pass.json\")\n",
    "status_code = response.status_code\n",
    "status"
   ]
  },
  {
   "cell_type": "markdown",
   "metadata": {},
   "source": [
    "If we look at the documentation for the OpenNotify API, we see that the [ISS Pass](http://open-notify.org/Open-Notify-API/ISS-Pass-Times/) endpoint requires two parameters."
   ]
  },
  {
   "cell_type": "markdown",
   "metadata": {},
   "source": [
    "This endpoint returns the next time the ISS will pass over a given location on the Earth. To request this information, we'll need to pass the coordinates for a specific location to the API. We do this by passing in two parameters, latitude and longitude.\n",
    "\n",
    "To accomplish this, we can add an optional keyword argument, params, to our request. In this case, we need to pass in two parameters:\n",
    "\n",
    "* lat - The latitude of the location\n",
    "* lon - The longitude of the location\n",
    "\n",
    "We can make a dictionary that contains these parameters, and then pass them into the function.\n",
    "\n",
    "We can also do the same thing directly by adding the query parameters to the url, like this:\n",
    "\n",
    "http://api.open-notify.org/iss-pass.json?lat=40.71&lon=-74\n",
    "\n",
    "It's almost always preferable to set up the parameters as a dictionary, because the requests library we mentioned earlier takes care of certain issues, like properly formatting the query parameters."
   ]
  },
  {
   "cell_type": "code",
   "execution_count": 12,
   "metadata": {},
   "outputs": [
    {
     "name": "stdout",
     "output_type": "stream",
     "text": [
      "b'{\\n  \"message\": \"success\", \\n  \"request\": {\\n    \"altitude\": 100, \\n    \"datetime\": 1568985007, \\n    \"latitude\": 37.78, \\n    \"longitude\": -122.41, \\n    \"passes\": 5\\n  }, \\n  \"response\": [\\n    {\\n      \"duration\": 493, \\n      \"risetime\": 1569029245\\n    }, \\n    {\\n      \"duration\": 647, \\n      \"risetime\": 1569034943\\n    }, \\n    {\\n      \"duration\": 568, \\n      \"risetime\": 1569040814\\n    }, \\n    {\\n      \"duration\": 480, \\n      \"risetime\": 1569046735\\n    }, \\n    {\\n      \"duration\": 553, \\n      \"risetime\": 1569052579\\n    }\\n  ]\\n}\\n'\n"
     ]
    }
   ],
   "source": [
    "# latitude 37.78 and the longitude -122.41 (the coordinates of San Francisco).\n",
    "\n",
    "parameter = {\"lat\":37.78, \"lon\":-122.41}\n",
    "\n",
    "response = requests.get(\"http://api.open-notify.org/iss-pass.json\", params = parameter)\n",
    "status_code = response.status_code\n",
    "content = response.content\n",
    "print(content)"
   ]
  },
  {
   "cell_type": "markdown",
   "metadata": {},
   "source": [
    "The content of the API response we receive is a string. Strings are the way we pass information back and forth through APIs, but it's hard to get the information we want out of them. How do we know how to decode the string we receive and work with it in Python?\n",
    "\n",
    "There's a format we call JSON. This format encodes data structures like lists and dictionaries as strings to ensure that machines can read them easily. JSON is the primary format for sending and receiving data through APIs."
   ]
  },
  {
   "cell_type": "markdown",
   "metadata": {},
   "source": [
    "Python offers great support for JSON through its json library. We can convert lists and dictionaries to JSON, and vice versa. Our ISS Pass data, for example, is a dictionary encoded as a string in JSON format.\n",
    "\n",
    "The JSON library has two main methods:\n",
    "\n",
    "* dumps -- Takes in a Python object, and converts it to a string\n",
    "* loads -- Takes a JSON string, and converts it to a Python object"
   ]
  },
  {
   "cell_type": "code",
   "execution_count": 13,
   "metadata": {},
   "outputs": [
    {
     "name": "stdout",
     "output_type": "stream",
     "text": [
      "<class 'list'>\n"
     ]
    }
   ],
   "source": [
    "# Make a list of fast food chains.\n",
    "best_food_chains = [\"Taco Bell\", \"Shake Shack\", \"Chipotle\"]\n",
    "print(type(best_food_chains))"
   ]
  },
  {
   "cell_type": "code",
   "execution_count": 16,
   "metadata": {},
   "outputs": [
    {
     "name": "stdout",
     "output_type": "stream",
     "text": [
      "<class 'str'>\n"
     ]
    },
    {
     "data": {
      "text/plain": [
       "'[\"Taco Bell\", \"Shake Shack\", \"Chipotle\"]'"
      ]
     },
     "execution_count": 16,
     "metadata": {},
     "output_type": "execute_result"
    }
   ],
   "source": [
    "import json\n",
    "\n",
    "# Use json.dumps to convert best_food_chains to a string.\n",
    "best_food_chains_string = json.dumps(best_food_chains)\n",
    "print(type(best_food_chains_string))\n",
    "best_food_chains_string"
   ]
  },
  {
   "cell_type": "code",
   "execution_count": 18,
   "metadata": {},
   "outputs": [
    {
     "name": "stdout",
     "output_type": "stream",
     "text": [
      "['Taco Bell', 'Shake Shack', 'Chipotle']\n"
     ]
    }
   ],
   "source": [
    "# Convert best_food_chains_string back to a list.\n",
    "\n",
    "print(json.loads(best_food_chains_string))"
   ]
  },
  {
   "cell_type": "code",
   "execution_count": 20,
   "metadata": {},
   "outputs": [
    {
     "name": "stdout",
     "output_type": "stream",
     "text": [
      "<class 'str'>\n"
     ]
    }
   ],
   "source": [
    "# Make a dictionary\n",
    "fast_food_franchise = {\n",
    "    \"Subway\": 24722,\n",
    "    \"McDonalds\": 14098,\n",
    "    \"Starbucks\": 10821,\n",
    "    \"Pizza Hut\": 7600\n",
    "}\n",
    "\n",
    "# We can also dump a dictionary to a string\n",
    "\n",
    "fast_food_franchise_string = json.dumps(fast_food_franchise)\n",
    "print(type(fast_food_franchise_string))"
   ]
  },
  {
   "cell_type": "code",
   "execution_count": 22,
   "metadata": {},
   "outputs": [
    {
     "name": "stdout",
     "output_type": "stream",
     "text": [
      "{'Subway': 24722, 'McDonalds': 14098, 'Starbucks': 10821, 'Pizza Hut': 7600}\n"
     ]
    }
   ],
   "source": [
    "# loads to convert fast_food_franchise_string to a Python object.\n",
    "fast_food_franchise2 = json.loads(fast_food_franchise_string)\n",
    "print(fast_food_franchise2)"
   ]
  },
  {
   "cell_type": "code",
   "execution_count": 23,
   "metadata": {},
   "outputs": [
    {
     "data": {
      "text/plain": [
       "{'message': 'success',\n",
       " 'request': {'altitude': 100,\n",
       "  'datetime': 1568985007,\n",
       "  'latitude': 37.78,\n",
       "  'longitude': -122.41,\n",
       "  'passes': 5},\n",
       " 'response': [{'duration': 493, 'risetime': 1569029245},\n",
       "  {'duration': 647, 'risetime': 1569034943},\n",
       "  {'duration': 568, 'risetime': 1569040814},\n",
       "  {'duration': 480, 'risetime': 1569046735},\n",
       "  {'duration': 553, 'risetime': 1569052579}]}"
      ]
     },
     "execution_count": 23,
     "metadata": {},
     "output_type": "execute_result"
    }
   ],
   "source": [
    "# We can get the content of a response as a Python object by using the .json() method on the response.\n",
    "json_data = response.json()\n",
    "json_data"
   ]
  },
  {
   "cell_type": "code",
   "execution_count": 26,
   "metadata": {},
   "outputs": [
    {
     "data": {
      "text/plain": [
       "493"
      ]
     },
     "execution_count": 26,
     "metadata": {},
     "output_type": "execute_result"
    }
   ],
   "source": [
    "# Get the duration value of the ISS' first pass over San Francisco and assign the value to first_pass_duration.\n",
    "first_pass_duration = json_data['response'][0]['duration']\n",
    "first_pass_duration"
   ]
  },
  {
   "cell_type": "markdown",
   "metadata": {},
   "source": [
    "The server sends more than a status code and the data when it generates a response. It also sends metadata containing information on how it generated the data and how to decode it. This information appears in the response headers. We can access it using the .headers property that responses have."
   ]
  },
  {
   "cell_type": "code",
   "execution_count": 28,
   "metadata": {},
   "outputs": [
    {
     "data": {
      "text/plain": [
       "{'Server': 'nginx/1.10.3', 'Date': 'Fri, 20 Sep 2019 13:11:29 GMT', 'Content-Type': 'application/json', 'Content-Length': '521', 'Connection': 'keep-alive', 'Via': '1.1 vegur'}"
      ]
     },
     "execution_count": 28,
     "metadata": {},
     "output_type": "execute_result"
    }
   ],
   "source": [
    "headers = response.headers\n",
    "headers"
   ]
  },
  {
   "cell_type": "markdown",
   "metadata": {},
   "source": [
    "The headers appear as a dictionary. For now, the content-type within the headers is the most important key. It tells us the format of the response, and how to decode it. For the OpenNotify API, the format is JSON, which is why we could decode it with JSON earlier."
   ]
  },
  {
   "cell_type": "code",
   "execution_count": 29,
   "metadata": {},
   "outputs": [
    {
     "name": "stdout",
     "output_type": "stream",
     "text": [
      "application/json\n"
     ]
    }
   ],
   "source": [
    "content_type = headers[\"content-type\"]\n",
    "print(content_type)"
   ]
  },
  {
   "cell_type": "markdown",
   "metadata": {},
   "source": [
    "OpenNotify has one more API endpoint, astros.json. It tells us how many people are currently in space"
   ]
  },
  {
   "cell_type": "code",
   "execution_count": 35,
   "metadata": {},
   "outputs": [
    {
     "name": "stdout",
     "output_type": "stream",
     "text": [
      "{'message': 'success', 'people': [{'name': 'Alexey Ovchinin', 'craft': 'ISS'}, {'name': 'Nick Hague', 'craft': 'ISS'}, {'name': 'Christina Koch', 'craft': 'ISS'}, {'name': 'Alexander Skvortsov', 'craft': 'ISS'}, {'name': 'Luca Parmitano', 'craft': 'ISS'}, {'name': 'Andrew Morgan', 'craft': 'ISS'}], 'number': 6}\n"
     ]
    },
    {
     "data": {
      "text/plain": [
       "6"
      ]
     },
     "execution_count": 35,
     "metadata": {},
     "output_type": "execute_result"
    }
   ],
   "source": [
    "# Find how many people are currently in space.\n",
    "\n",
    "json_data = requests.get(\"http://api.open-notify.org/astros.json\").json()\n",
    "print(json_data)\n",
    "json_data['number']"
   ]
  },
  {
   "cell_type": "code",
   "execution_count": null,
   "metadata": {},
   "outputs": [],
   "source": []
  }
 ],
 "metadata": {
  "kernelspec": {
   "display_name": "Python 3",
   "language": "python",
   "name": "python3"
  },
  "language_info": {
   "codemirror_mode": {
    "name": "ipython",
    "version": 3
   },
   "file_extension": ".py",
   "mimetype": "text/x-python",
   "name": "python",
   "nbconvert_exporter": "python",
   "pygments_lexer": "ipython3",
   "version": "3.7.1"
  }
 },
 "nbformat": 4,
 "nbformat_minor": 2
}
