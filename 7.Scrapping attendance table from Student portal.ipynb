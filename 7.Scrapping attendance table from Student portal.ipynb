{
 "cells": [
  {
   "cell_type": "markdown",
   "metadata": {},
   "source": [
    "[Video](https://www.youtube.com/watch?v=cV21EOf5bbA&t=747s) for guidance"
   ]
  },
  {
   "cell_type": "code",
   "execution_count": 74,
   "metadata": {},
   "outputs": [],
   "source": [
    "import requests\n",
    "from bs4 import BeautifulSoup"
   ]
  },
  {
   "cell_type": "code",
   "execution_count": 75,
   "metadata": {},
   "outputs": [],
   "source": [
    "login_url = \"http://eduboard.newports.edu.pk:1080/StudentPortal/Student/EDU_EBS_STU_Login.aspx\""
   ]
  },
  {
   "cell_type": "code",
   "execution_count": 76,
   "metadata": {},
   "outputs": [],
   "source": [
    "attendance_url = \"http://eduboard.newports.edu.pk:1080/StudentPortal/Student/EDU_EBS_STU_Attendance.aspx\""
   ]
  },
  {
   "cell_type": "code",
   "execution_count": 77,
   "metadata": {},
   "outputs": [],
   "source": [
    "payload = {\"__VIEWSTATE\": \"/wEPDwULLTIwOTAyNDg3NDMPZBYCZg9kFgQCAQ9kFgICFQ8WAh4EaHJlZgUyLi4vZGVzaWduX2ZyYW1ld29yay9OZXdEYXNoYm9hcmQvZGlzdC9jc3MvQmx1ZS5jc3NkAgMPZBYCAgEPZBYIAgMPDxYCHghJbWFnZVVybAUcLi4vaW1hZ2VzL2xvZ2luX2R1bW15X2JnLmpwZ2RkAhAPDxYKHghDc3NDbGFzcwUHTG9nb0JveB4FV2lkdGgbAAAAAADgZEABAAAAHgZIZWlnaHQbAAAAAACAZEABAAAAHwEFUH4vVGVsZXJpay5XZWIuVUkuV2ViUmVzb3VyY2UuYXhkP2ltZ2lkPTViYzJmYzZiZTA5NDQ3NDc5M2ExNDE5OWIxZDJlMmZiJnR5cGU9cmJpHgRfIVNCAoIDZGQCEg8WAh4JaW5uZXJodG1sZWQCFA8WAh8AZGQYAQUeX19Db250cm9sc1JlcXVpcmVQb3N0QmFja0tleV9fFgEFI2N0bDAwJENvbnRlbnRQbGFjZUhvbGRlcjEkQ2hlY2tCb3gxhG2oGDhPrxJjfz3Ho4I8B74FSBsJhH2V0brgYpg/m1w=\",\n",
    "\"__VIEWSTATEGENERATOR\": \"CE95E3B5\",\n",
    "\"__EVENTVALIDATION\":\"/wEdAAfneqILOtjRLBzIC6X7cXzTV81WNt1mpwLL2zW1ewrLS3Qq+s+KEqCNvUmR1rBY5ca4Z67AOU/kzhzLV6X3P9qDKX+RG8XwdcP0xBy3CPsNqwM00h6IH/niWSnxqsLv1wpcrmMV3O38Ci5K+kVOqYVB7ep6jim13W2zyscQ+lUD0uNvsTIk5bQ5cnDNWeTLTUo=\",\n",
    "\"ctl00$ContentPlaceHolder1$txtRegistrationNo_cs\": \"1183-2003154\",\n",
    "\"ctl00$ContentPlaceHolder1$txtPassword_m6cs\": \"bscsgraduate1221\",\n",
    "\"ctl00$ContentPlaceHolder1$btnlgn\": \"Login\"} # getting from Form Data with in a Network tab"
   ]
  },
  {
   "cell_type": "code",
   "execution_count": 78,
   "metadata": {},
   "outputs": [],
   "source": [
    "with requests.session() as s:\n",
    "    r1 = s.post(login_url, data = payload)\n",
    "    # print(r1.status_code)\n",
    "    r2 = s.get(attendance_url)\n",
    "    # print(r2.status_code)\n",
    "    soup = BeautifulSoup(r2.content, \"html.parser\")"
   ]
  },
  {
   "cell_type": "code",
   "execution_count": 79,
   "metadata": {},
   "outputs": [],
   "source": [
    "table = soup.find_all(\"table\")"
   ]
  },
  {
   "cell_type": "code",
   "execution_count": 80,
   "metadata": {},
   "outputs": [
    {
     "data": {
      "text/plain": [
       "['Course (Code)',\n",
       " 'Section Code',\n",
       " 'Total Classes',\n",
       " 'Taken Classes',\n",
       " 'Attended Classes',\n",
       " 'Percentage']"
      ]
     },
     "execution_count": 80,
     "metadata": {},
     "output_type": "execute_result"
    }
   ],
   "source": [
    "cols = [header.text for header in table[0].find_all(\"th\")][:-1]\n",
    "cols"
   ]
  },
  {
   "cell_type": "code",
   "execution_count": 81,
   "metadata": {},
   "outputs": [
    {
     "data": {
      "text/plain": [
       "['Artificial Intelligence   ( CSC317 )', 'SPR21-BSCS-12', '18', '0', '0', '0']"
      ]
     },
     "execution_count": 81,
     "metadata": {},
     "output_type": "execute_result"
    }
   ],
   "source": [
    "row1 = [row1.text for row1 in table[0].find_all(\"td\")[:6]]\n",
    "row1"
   ]
  },
  {
   "cell_type": "code",
   "execution_count": 86,
   "metadata": {},
   "outputs": [
    {
     "data": {
      "text/plain": [
       "['Artificial Intelligence (LAB SESSION) ( CSC317(L) )',\n",
       " 'SPR21-BSCS-13',\n",
       " '18',\n",
       " '0',\n",
       " '0',\n",
       " '0']"
      ]
     },
     "execution_count": 86,
     "metadata": {},
     "output_type": "execute_result"
    }
   ],
   "source": [
    "row2 = [row2.text for row2 in  table[0].find_all(\"td\")[7:-1]]\n",
    "row2"
   ]
  },
  {
   "cell_type": "code",
   "execution_count": 87,
   "metadata": {},
   "outputs": [],
   "source": [
    "all_rows = [row1, row2]"
   ]
  },
  {
   "cell_type": "code",
   "execution_count": 88,
   "metadata": {},
   "outputs": [],
   "source": [
    "import pandas as pd\n",
    "attendace_df = pd.DataFrame(all_rows, columns = cols)"
   ]
  },
  {
   "cell_type": "code",
   "execution_count": 89,
   "metadata": {},
   "outputs": [
    {
     "data": {
      "text/html": [
       "<div>\n",
       "<style scoped>\n",
       "    .dataframe tbody tr th:only-of-type {\n",
       "        vertical-align: middle;\n",
       "    }\n",
       "\n",
       "    .dataframe tbody tr th {\n",
       "        vertical-align: top;\n",
       "    }\n",
       "\n",
       "    .dataframe thead th {\n",
       "        text-align: right;\n",
       "    }\n",
       "</style>\n",
       "<table border=\"1\" class=\"dataframe\">\n",
       "  <thead>\n",
       "    <tr style=\"text-align: right;\">\n",
       "      <th></th>\n",
       "      <th>Course (Code)</th>\n",
       "      <th>Section Code</th>\n",
       "      <th>Total Classes</th>\n",
       "      <th>Taken Classes</th>\n",
       "      <th>Attended Classes</th>\n",
       "      <th>Percentage</th>\n",
       "    </tr>\n",
       "  </thead>\n",
       "  <tbody>\n",
       "    <tr>\n",
       "      <th>0</th>\n",
       "      <td>Artificial Intelligence   ( CSC317 )</td>\n",
       "      <td>SPR21-BSCS-12</td>\n",
       "      <td>18</td>\n",
       "      <td>0</td>\n",
       "      <td>0</td>\n",
       "      <td>0</td>\n",
       "    </tr>\n",
       "    <tr>\n",
       "      <th>1</th>\n",
       "      <td>Artificial Intelligence (LAB SESSION) ( CSC317...</td>\n",
       "      <td>SPR21-BSCS-13</td>\n",
       "      <td>18</td>\n",
       "      <td>0</td>\n",
       "      <td>0</td>\n",
       "      <td>0</td>\n",
       "    </tr>\n",
       "  </tbody>\n",
       "</table>\n",
       "</div>"
      ],
      "text/plain": [
       "                                       Course (Code)   Section Code  \\\n",
       "0               Artificial Intelligence   ( CSC317 )  SPR21-BSCS-12   \n",
       "1  Artificial Intelligence (LAB SESSION) ( CSC317...  SPR21-BSCS-13   \n",
       "\n",
       "  Total Classes Taken Classes Attended Classes Percentage  \n",
       "0            18             0                0          0  \n",
       "1            18             0                0          0  "
      ]
     },
     "execution_count": 89,
     "metadata": {},
     "output_type": "execute_result"
    }
   ],
   "source": [
    "attendace_df"
   ]
  },
  {
   "cell_type": "code",
   "execution_count": null,
   "metadata": {},
   "outputs": [],
   "source": []
  }
 ],
 "metadata": {
  "kernelspec": {
   "display_name": "Python 3",
   "language": "python",
   "name": "python3"
  },
  "language_info": {
   "codemirror_mode": {
    "name": "ipython",
    "version": 3
   },
   "file_extension": ".py",
   "mimetype": "text/x-python",
   "name": "python",
   "nbconvert_exporter": "python",
   "pygments_lexer": "ipython3",
   "version": "3.7.6"
  }
 },
 "nbformat": 4,
 "nbformat_minor": 4
}
